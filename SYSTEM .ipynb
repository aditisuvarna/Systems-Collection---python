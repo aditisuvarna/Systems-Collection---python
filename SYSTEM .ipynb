{
 "cells": [
  {
   "cell_type": "markdown",
   "id": "83b03db6-9b3f-445e-ad8e-e332e0354213",
   "metadata": {},
   "source": [
    "# ☕ COFFEE BILLING SYSTEM ☕"
   ]
  },
  {
   "cell_type": "markdown",
   "id": "603c45ce-bba5-45fe-9da2-275332ac8f97",
   "metadata": {},
   "source": [
    "## Introduction ☕\n",
    "In this Coffee & Tea Ordering Game, you get to choose your favorite beverages from a variety of coffee and tea options, specify the quantity, and proceed to pay using different payment methods like Credit Card, UPI (GPay/PhonePe), or Cash. The total cost of your order is calculated based on the quantity you choose for each drink."
   ]
  },
  {
   "cell_type": "code",
   "execution_count": 2,
   "id": "cddcd102-9692-4db3-aff5-f98ea7a1fa8d",
   "metadata": {},
   "outputs": [
    {
     "name": "stdout",
     "output_type": "stream",
     "text": [
      "What do you like to have? ☕🍵\n",
      "\n",
      "1. Espresso ☕\n",
      "2. Latte 🍶    \n",
      "3. Cappuccino 🧋\n",
      "4. Tea 🍵\n",
      "5. Exit ❌\n",
      "\n"
     ]
    },
    {
     "name": "stdin",
     "output_type": "stream",
     "text": [
      "Enter your choice (1-4):  2\n"
     ]
    },
    {
     "name": "stdout",
     "output_type": "stream",
     "text": [
      " \n"
     ]
    },
    {
     "name": "stdin",
     "output_type": "stream",
     "text": [
      "How much quantity do you want? 🍽️  2\n"
     ]
    },
    {
     "name": "stdout",
     "output_type": "stream",
     "text": [
      "Your order for Latte is done 🍶\n",
      "For 1 Latte the price is: ₹200\n",
      "For 2 quantity, your total price will be: ₹400\n",
      " \n"
     ]
    },
    {
     "name": "stdin",
     "output_type": "stream",
     "text": [
      "Enter your choice (1-4):  5\n"
     ]
    },
    {
     "name": "stdout",
     "output_type": "stream",
     "text": [
      " \n",
      "Thanks for visiting! 🙏\n",
      "Your total amount is: ₹400 💸\n",
      " \n",
      "How would you like to pay the bill? 💳💰\n",
      "\n",
      "1. Credit Card 💳\n",
      "2. GPay 📱💸\n",
      "3. PhonePe 📱💸\n",
      "4. Cash 💵\n",
      " \n"
     ]
    },
    {
     "name": "stdin",
     "output_type": "stream",
     "text": [
      "Enter your choice (1-4):  2\n",
      "Please enter your UPI ID: 📱  345\n"
     ]
    },
    {
     "name": "stdout",
     "output_type": "stream",
     "text": [
      "GPay payment selected. UPI ID: 345 📱💸\n",
      "Please accept the payment to pay successfully. ✅\n",
      " \n"
     ]
    },
    {
     "name": "stdin",
     "output_type": "stream",
     "text": [
      "Did you accept the payment? (yes/no):  yes\n"
     ]
    },
    {
     "name": "stdout",
     "output_type": "stream",
     "text": [
      "Payment successful! 🎉💸\n"
     ]
    }
   ],
   "source": [
    "print(\"\"\"What do you like to have? ☕🍵\n",
    "\n",
    "1. Espresso ☕\n",
    "2. Latte 🍶    \n",
    "3. Cappuccino 🧋\n",
    "4. Tea 🍵\n",
    "5. Exit ❌\n",
    "\"\"\")   \n",
    "price = 0\n",
    "total_amount = 0  \n",
    "while True:\n",
    "    order = int(input(\"Enter your choice (1-4): \"))\n",
    "    print(\" \")\n",
    "    if order == 1:\n",
    "        quantity = int(input(\"How much quantity do you want? 🍽️ \"))\n",
    "        print(\"Your order for Espresso is done ☕\")\n",
    "        price = 175\n",
    "        print(f\"For 1 Espresso the price is: ₹{price}\")\n",
    "        total = price * quantity\n",
    "        print(f\"For {quantity} quantity, your total price will be: ₹{total}\")\n",
    "        total_amount += total\n",
    "        print(\" \")\n",
    "\n",
    "    elif order == 2:\n",
    "        quantity = int(input(\"How much quantity do you want? 🍽️ \"))\n",
    "        print(\"Your order for Latte is done 🍶\")\n",
    "        price = 200\n",
    "        print(f\"For 1 Latte the price is: ₹{price}\")\n",
    "        total = price * quantity\n",
    "        print(f\"For {quantity} quantity, your total price will be: ₹{total}\")\n",
    "        total_amount += total\n",
    "        print(\" \")\n",
    "\n",
    "    elif order == 3:\n",
    "        quantity = int(input(\"How much quantity do you want? 🍽️ \"))\n",
    "        print(\"Your order for Cappuccino is done 🧋\")\n",
    "        price = 260\n",
    "        print(f\"For 1 Cappuccino the price is: ₹{price}\")\n",
    "        total = price * quantity\n",
    "        print(f\"For {quantity} quantity, your total price will be: ₹{total}\")\n",
    "        total_amount += total\n",
    "        print(\" \")\n",
    "\n",
    "    elif order == 4:\n",
    "        quantity = int(input(\"How much quantity do you want? 🍽️ \"))\n",
    "        print(\"Your order for Tea is done 🍵\")\n",
    "        price = 150\n",
    "        print(f\"For 1 Tea the price is: ₹{price}\")\n",
    "        total = price * quantity\n",
    "        print(f\"For {quantity} quantity, your total price will be: ₹{total}\")\n",
    "        total_amount += total\n",
    "        print(\" \")\n",
    "\n",
    "    elif order == 5:\n",
    "        print(\"Thanks for visiting! 🙏\")\n",
    "        break\n",
    "\n",
    "    else:\n",
    "        print(\"Invalid choice 😕\")\n",
    "\n",
    "print(f\"Your total amount is: ₹{total_amount} 💸\")\n",
    "print(\" \")\n",
    "print(\"\"\"How would you like to pay the bill? 💳💰\n",
    "\n",
    "1. Credit Card 💳\n",
    "2. GPay 📱💸\n",
    "3. PhonePe 📱💸\n",
    "4. Cash 💵\"\"\")\n",
    "print(\" \")\n",
    "payment_choice = int(input(\"Enter your choice (1-4): \"))\n",
    "\n",
    "if payment_choice == 1:\n",
    "    card_number = input(\"Please enter your card number: 💳 \")\n",
    "    print(f\"Credit Card payment selected. Card number: {card_number} 💳\")\n",
    "    print(\"Please accept the payment to pay successfully. ✅\")\n",
    "    print(\" \")\n",
    "\n",
    "elif payment_choice == 2:\n",
    "    upi_id = input(\"Please enter your UPI ID: 📱 \")\n",
    "    print(f\"GPay payment selected. UPI ID: {upi_id} 📱💸\")\n",
    "    print(\"Please accept the payment to pay successfully. ✅\")\n",
    "    print(\" \")\n",
    "\n",
    "elif payment_choice == 3:\n",
    "    phonepe_number = input(\"Please enter your phone number for PhonePe: 📱 \")\n",
    "    print(f\"PhonePe payment selected. Phone number: {phonepe_number} 📱💸\")\n",
    "    print(\"Please accept the payment to pay successfully. ✅\")\n",
    "    print(\" \")\n",
    "\n",
    "elif payment_choice == 4:\n",
    "    print(\"Please give the cash to the counter. 💵\")\n",
    "    print(\" \")\n",
    "\n",
    "else:\n",
    "    print(\"Invalid choice for payment method 😕\")\n",
    "\n",
    "payment_accepted = input(\"Did you accept the payment? (yes/no): \").lower()\n",
    "\n",
    "if payment_accepted == \"yes\":\n",
    "    print(\"Payment successful! 🎉💸\")\n",
    "else:\n",
    "    print(\"Payment not successful. Please try again. ❌\")"
   ]
  },
  {
   "cell_type": "markdown",
   "id": "812ccc41-4811-4602-a20b-e87c2370ba67",
   "metadata": {},
   "source": [
    "## Conclusion 🍵\n",
    "This Coffee & Tea Ordering Game is an enjoyable way to simulate the process of ordering beverages, while adding an exciting payment section where users can choose how they want to pay. It's a simple and engaging casual game to explore how real-world ordering and payment systems work. Whether you're in the mood for Espresso, Latte, or just Tea, this game has you covered! ☕🍶🧋🍵💸"
   ]
  },
  {
   "cell_type": "markdown",
   "id": "d566e9da-ea6a-4668-98ac-2eaea80f4d71",
   "metadata": {},
   "source": [
    "# 💸 KON BANEGA CROREPATI 💸💡"
   ]
  },
  {
   "cell_type": "markdown",
   "id": "ea57853c-d034-46c4-9656-886aea0d1c6c",
   "metadata": {},
   "source": [
    "## 🤑 Introduction to the Game 🏅\n",
    "This is a Data Science-themed version of Kaun Banega Crorepati (KBC)! The player is asked questions related to data science, machine learning, programming, and tools like SQL, Python, and Tableau. The goal is to answer the questions correctly and accumulate prize money, all while interacting with the game through lifelines and multiple-choice options. 🏆💻"
   ]
  },
  {
   "cell_type": "code",
   "execution_count": null,
   "id": "04fc6a0f-6ae3-4fdb-8a6b-b9deb6f57fd7",
   "metadata": {},
   "outputs": [
    {
     "name": "stdout",
     "output_type": "stream",
     "text": [
      "Welcome to Kaun Banega Crorepati 💸(KBC):\n",
      "    Answer the questions correctly to win prize money. Let's begin!\n",
      "\n",
      "Question 1: What does the SQL SELECT statement do?\n",
      "1. Deletes data\n",
      "2. Updates data\n",
      "3. Retrieves data\n",
      "4. Inserts data\n",
      "\n",
      "💡 Lifeline: Type 'lifeline' to eliminate two wrong options!\n"
     ]
    }
   ],
   "source": [
    "import random  # Importing the random module to randomly select wrong answers for the lifeline\n",
    "\n",
    "def kbc_data_science_mixed():\n",
    "    # Initial introduction to the game\n",
    "    print(\"\"\"Welcome to Kaun Banega Crorepati 💸(KBC):\n",
    "    Answer the questions correctly to win prize money. Let's begin!\"\"\")\n",
    "\n",
    "    # List of questions with their options, correct answer index, and prize money\n",
    "    questions = [\n",
    "        { \n",
    "            \"question\": \"What does the SQL SELECT statement do?\",\n",
    "            \"options\": [\"Deletes data\", \"Updates data\", \"Retrieves data\", \"Inserts data\"],\n",
    "            \"answer\": 3,  # Index of correct answer (1-based index, so 3 means \"Retrieves data\")\n",
    "            \"prize\": 5000  # Prize money for this question\n",
    "        },\n",
    "        { \n",
    "            \"question\": \"Which Python data type is used to store key-value pairs?\",\n",
    "            \"options\": [\"List\", \"Dictionary\", \"Tuple\", \"Set\"],\n",
    "            \"answer\": 2,  # \"Dictionary\" is correct\n",
    "            \"prize\": 10000\n",
    "        },\n",
    "        { \n",
    "            \"question\": \"What is the purpose of a Tableau dashboard?\",\n",
    "            \"options\": [\n",
    "                \"To clean data\",\n",
    "                \"To create and publish interactive data visualizations\",\n",
    "                \"To store large datasets\",\n",
    "                \"To build machine learning models\"\n",
    "            ],\n",
    "            \"answer\": 2,  # \"To create and publish interactive data visualizations\" is correct\n",
    "            \"prize\": 20000\n",
    "        },\n",
    "        { \n",
    "            \"question\": \"Which Power BI feature allows users to connect to real-time data?\",\n",
    "            \"options\": [\"Data Gateway\", \"Scheduled Refresh\", \"Live Connection\", \"DAX\"],\n",
    "            \"answer\": 3,  # \"Live Connection\" is correct\n",
    "            \"prize\": 40000\n",
    "        },\n",
    "        {\n",
    "            \"question\": \"Which SQL clause is used to filter groups of data in combination with aggregate functions?\",\n",
    "            \"options\": [\"WHERE\", \"GROUP BY\", \"HAVING\", \"ORDER BY\"],\n",
    "            \"answer\": 3,  # \"HAVING\" is correct\n",
    "            \"prize\": 160000\n",
    "        },\n",
    "        {\n",
    "            \"question\": \"What is the output of the following code snippet?\\n\\ndef func(x, y=[]):\\n    y.append(x)\\n    return y\\n\\nprint(func(1))\\nprint(func(2))\",\n",
    "            \"options\": [\"[1], [2]\", \"[1], [1, 2]\", \"[1, 2], [2]\", \"[1], [2, 1]\"],\n",
    "            \"answer\": 2,  # The correct answer is \"[1], [1, 2]\"\n",
    "            \"prize\": 640000\n",
    "        },\n",
    "        {\n",
    "            \"question\": \"Which type of machine learning algorithm is used for classification problems?\",\n",
    "            \"options\": [\n",
    "                \"Supervised Learning\",\n",
    "                \"Reinforcement Learning\",\n",
    "                \"Unsupervised Learning\",\n",
    "                \"Deep Reinforcement Learning\"\n",
    "            ],\n",
    "            \"answer\": 1,  # \"Supervised Learning\" is correct\n",
    "            \"prize\": 2500000\n",
    "        },\n",
    "        {\n",
    "            \"question\": \"Which Python library can be used to execute SQL queries directly on a database?\",\n",
    "            \"options\": [\"NumPy\", \"pandas\", \"SQLAlchemy\", \"scikit-learn\"],\n",
    "            \"answer\": 3,  # \"SQLAlchemy\" is correct\n",
    "            \"prize\": 10000000\n",
    "        }\n",
    "    ]\n",
    "\n",
    "    total_prize = 0  # Variable to track the total prize money\n",
    "    lifeline_used = False  # Flag to check if lifeline has been used\n",
    "\n",
    "    # Loop through each question in the questions list\n",
    "    for i, q in enumerate(questions):\n",
    "        print(f\"\\nQuestion {i+1}: {q['question']}\")\n",
    "        \n",
    "        # Print the options for the current question\n",
    "        for idx, option in enumerate(q[\"options\"], 1):\n",
    "            print(f\"{idx}. {option}\")\n",
    "        \n",
    "        # Display the lifeline message if not used\n",
    "        if not lifeline_used:\n",
    "            print(\"\\n💡 Lifeline: Type 'lifeline' to eliminate two wrong options!\")\n",
    "        \n",
    "        # Take user input (answer or lifeline)\n",
    "        user_input = input(\"\\nEnter your answer (1-4) or 'lifeline': \").lower()\n",
    "\n",
    "        # Handle the lifeline option\n",
    "        if user_input == \"lifeline\" and not lifeline_used:\n",
    "            lifeline_used = True  # Mark that lifeline has been used\n",
    "            print(\"\\nUsing Lifeline... Two wrong options are removed.\")\n",
    "            \n",
    "            # Find the correct option and the wrong options\n",
    "            correct_option = q[\"answer\"]\n",
    "            wrong_options = [i for i in range(1, 5) if i != correct_option]\n",
    "            \n",
    "            # Randomly select one wrong option to display\n",
    "            random_wrong_option = random.choice(wrong_options)\n",
    "            \n",
    "            # Show remaining options: one correct and one random wrong option\n",
    "            print(f\"Remaining options: {correct_option}. {q['options'][correct_option-1]}, {random_wrong_option}. {q['options'][random_wrong_option-1]}\")\n",
    "            \n",
    "            # Ask the user to select the final answer\n",
    "            user_input = input(\"Enter your final answer (1-4): \").lower()\n",
    "        \n",
    "        elif user_input == \"lifeline\":\n",
    "            # If the user tries to use lifeline after it's already been used\n",
    "            print(\"❌ You already used the lifeline! Please enter your answer.\")\n",
    "            user_input = input(\"Enter your answer (1-4): \").lower()\n",
    "\n",
    "        # Check if the input is a digit and within the range 1-4\n",
    "        if user_input.isdigit():\n",
    "            user_choice = int(user_input)\n",
    "            if user_choice == q[\"answer\"]:  # Check if the answer is correct\n",
    "                total_prize += q[\"prize\"]  # Add prize money to total\n",
    "                print(f\"✅ Correct! You've won ₹{q['prize']}! Total prize: ₹{total_prize}\\n\")\n",
    "            else:\n",
    "                print(\"❌ Wrong answer! Game over!\")  # If answer is wrong, end the game\n",
    "                print(f\"You won a total of ₹{total_prize}. Thank you for playing! 🎉\")\n",
    "                break  # Exit the loop and end the game\n",
    "        elif user_input == \"lifeline\" and not lifeline_used:\n",
    "            continue  # If the user enters \"lifeline\" and it hasn't been used yet, continue to the next iteration\n",
    "        else:\n",
    "            print(\"❌ Invalid input! Please enter a valid option.\")  # Handle invalid input\n",
    "            break  # Exit the game on invalid input\n",
    "\n",
    "    else:\n",
    "        # If all questions are answered correctly, print the congratulations message\n",
    "        print(f\"🎊 Congratulations! You answered all questions correctly and won ₹{total_prize}! 🎊\")\n",
    "\n",
    "# Run the game\n",
    "kbc_data_science_mixed()"
   ]
  },
  {
   "cell_type": "markdown",
   "id": "c7cc4f62-3d54-4480-9fc3-73433fc8545b",
   "metadata": {},
   "source": [
    "## Conclusion 🎯\n",
    "\n",
    "This KBC-style quiz game is not just a test of knowledge; it's a strategic journey through the world of data science! By using lifelines and answering questions, players can learn more about key data science tools and concepts while having fun. It’s a combination of learning and excitement, perfect for anyone passionate about the field! 🌟"
   ]
  },
  {
   "cell_type": "markdown",
   "id": "fdf93e55-fe11-4753-bc1e-973d38b58be6",
   "metadata": {},
   "source": [
    "# 🎬 MOVIE TICKET BOOKING 🎬 "
   ]
  },
  {
   "cell_type": "markdown",
   "id": "295ed1ec-2799-49d9-ac80-689332159789",
   "metadata": {},
   "source": [
    "## Introduction to the Movie Ticket Booking 🎉\n",
    "This is a Movie Ticket Booking , where users can choose from a list of popular movies and book tickets for them. The prices for the tickets vary for each movie. After the movie selection and booking process, the player chooses a payment method and proceeds with the payment. 💳📱💵\n"
   ]
  },
  {
   "cell_type": "code",
   "execution_count": 1,
   "id": "0e25938f-a8ba-462f-8bf2-372f5532c16a",
   "metadata": {},
   "outputs": [
    {
     "name": "stdout",
     "output_type": "stream",
     "text": [
      "Welcome to Movie Ticket Booking 🎬🍿\n",
      "\n",
      "1. Yeh Jawaaani Hai Deewani 🎉\n",
      "2. Game Changer 🎮\n",
      "3. Pushpa 2 🔥\n",
      "4. Kaho Naa Pyaar Hai 💖\n",
      "5. Mufasa: The Lion King 🦁\n",
      "6. Fateh 💥\n",
      "7. Exit 🚪\n",
      "\n"
     ]
    },
    {
     "name": "stdin",
     "output_type": "stream",
     "text": [
      "Select Movie (1-7): 🎬  1\n",
      "How many tickets do you want to book? 🎟️  1\n"
     ]
    },
    {
     "name": "stdout",
     "output_type": "stream",
     "text": [
      "For 1 ticket the price is: ₹150 💸\n",
      "For 1 tickets, your total price will be: ₹150 💰\n"
     ]
    },
    {
     "name": "stdin",
     "output_type": "stream",
     "text": [
      "Select Movie (1-7): 🎬  7\n"
     ]
    },
    {
     "name": "stdout",
     "output_type": "stream",
     "text": [
      "Thanks for visiting! 🎥👋\n",
      "Your total amount is: ₹150 💸\n",
      " \n",
      "How would you like to pay the bill? 💳💰\n",
      "\n",
      "1. Credit Card 💳\n",
      "2. GPay 📱💸\n",
      "3. PhonePe 📱💸\n",
      "4. Cash 💵\n",
      "\n"
     ]
    },
    {
     "name": "stdin",
     "output_type": "stream",
     "text": [
      "Enter your choice (1-4): 💳📱💵  4\n"
     ]
    },
    {
     "name": "stdout",
     "output_type": "stream",
     "text": [
      "Please give the cash to the counter. 💵\n",
      " \n"
     ]
    },
    {
     "name": "stdin",
     "output_type": "stream",
     "text": [
      "Did you accept the payment? (yes/no):  yes\n"
     ]
    },
    {
     "name": "stdout",
     "output_type": "stream",
     "text": [
      "Payment successful! 🎉💸\n"
     ]
    }
   ],
   "source": [
    "print(\"\"\"Welcome to Movie Ticket Booking 🎬🍿\n",
    "\n",
    "1. Yeh Jawaaani Hai Deewani 🎉\n",
    "2. Game Changer 🎮\n",
    "3. Pushpa 2 🔥\n",
    "4. Kaho Naa Pyaar Hai 💖\n",
    "5. Mufasa: The Lion King 🦁\n",
    "6. Fateh 💥\n",
    "7. Exit 🚪\n",
    "\"\"\")   \n",
    "price = 0\n",
    "total_amount = 0\n",
    "\n",
    "while True:\n",
    "    movie = int(input(\"Select Movie (1-7): 🎬 \"))\n",
    "    if movie == 1:\n",
    "        tickets = int(input(\"How many tickets do you want to book? 🎟️ \"))\n",
    "        movie_name = \"Yeh Jawaaani Hai Deewani\"\n",
    "        price = 150\n",
    "        print(f\"For 1 ticket the price is: ₹{price} 💸\")\n",
    "        total = tickets * price\n",
    "        print(f\"For {tickets} tickets, your total price will be: ₹{total} 💰\")\n",
    "        total_amount += total\n",
    "    elif movie == 2:\n",
    "        tickets = int(input(\"How many tickets do you want to book? 🎟️ \"))\n",
    "        movie_name = \"Game Changer\"\n",
    "        price = 220\n",
    "        print(f\"For 1 ticket the price is: ₹{price} 💸\")\n",
    "        total = tickets * price\n",
    "        print(f\"For {tickets} tickets, your total price will be: ₹{total} 💰\")\n",
    "        total_amount += total\n",
    "    elif movie == 3:\n",
    "        tickets = int(input(\"How many tickets do you want to book? 🎟️ \"))\n",
    "        movie_name = \"Pushpa 2\"\n",
    "        price = 180\n",
    "        print(f\"For 1 ticket the price is: ₹{price} 💸\")\n",
    "        total = tickets * price\n",
    "        print(f\"For {tickets} tickets, your total price will be: ₹{total} 💰\")\n",
    "        total_amount += total\n",
    "    elif movie == 4:\n",
    "        tickets = int(input(\"How many tickets do you want to book? 🎟️ \"))\n",
    "        movie_name = \"Kaho Naa Pyaar Hai\"\n",
    "        price = 200\n",
    "        print(f\"For 1 ticket the price is: ₹{price} 💸\")\n",
    "        total = tickets * price\n",
    "        print(f\"For {tickets} tickets, your total price will be: ₹{total} 💰\")\n",
    "        total_amount += total\n",
    "    elif movie == 5:\n",
    "        tickets = int(input(\"How many tickets do you want to book? 🎟️ \"))\n",
    "        movie_name = \"Mufasa: The Lion King\"\n",
    "        price = 210\n",
    "        print(f\"For 1 ticket the price is: ₹{price} 💸\")\n",
    "        total = tickets * price\n",
    "        print(f\"For {tickets} tickets, your total price will be: ₹{total} 💰\")\n",
    "        total_amount += total\n",
    "    elif movie == 6:\n",
    "        tickets = int(input(\"How many tickets do you want to book? 🎟️ \"))\n",
    "        movie_name = \"Fateh\"\n",
    "        price = 220\n",
    "        print(f\"For 1 ticket the price is: ₹{price} 💸\")\n",
    "        total = tickets * price\n",
    "        print(f\"For {tickets} tickets, your total price will be: ₹{total} 💰\")\n",
    "        total_amount += total\n",
    "    elif movie == 7:\n",
    "        print(\"Thanks for visiting! 🎥👋\")\n",
    "        break\n",
    "    else:\n",
    "        print(\"Invalid choice! Please choose a movie from 1-7. ❌\")\n",
    "        \n",
    "print(f\"Your total amount is: ₹{total_amount} 💸\")\n",
    "print(\" \")\n",
    "\n",
    "print(\"\"\"How would you like to pay the bill? 💳💰\n",
    "\n",
    "1. Credit Card 💳\n",
    "2. GPay 📱💸\n",
    "3. PhonePe 📱💸\n",
    "4. Cash 💵\n",
    "\"\"\")\n",
    "\n",
    "payment_choice = int(input(\"Enter your choice (1-4): 💳📱💵 \"))\n",
    "\n",
    "if payment_choice == 1:\n",
    "    card_number = input(\"Please enter your card number: 💳 \")\n",
    "    print(f\"Credit Card payment selected. Card number: {card_number} 💳\")\n",
    "    print(\"Please accept the payment to pay successfully. ✅\")\n",
    "    print(\" \")\n",
    "\n",
    "elif payment_choice == 2:\n",
    "    upi_id = input(\"Please enter your UPI ID: 📱 \")\n",
    "    print(f\"GPay payment selected. UPI ID: {upi_id} 📱💸\")\n",
    "    print(\"Please accept the payment to pay successfully. ✅\")\n",
    "    print(\" \")\n",
    "\n",
    "elif payment_choice == 3:\n",
    "    phonepe_number = input(\"Please enter your phone number for PhonePe: 📱 \")\n",
    "    print(f\"PhonePe payment selected. Phone number: {phonepe_number} 📱💸\")\n",
    "    print(\"Please accept the payment to pay successfully. ✅\")\n",
    "    print(\" \")\n",
    "\n",
    "elif payment_choice == 4:\n",
    "    print(\"Please give the cash to the counter. 💵\")\n",
    "    print(\" \")\n",
    "\n",
    "else:\n",
    "    print(\"Invalid choice for payment method 😕\")\n",
    "\n",
    "payment_accepted = input(\"Did you accept the payment? (yes/no): \").lower()\n",
    "\n",
    "if payment_accepted == \"yes\":\n",
    "    print(\"Payment successful! 🎉💸\")\n",
    "else:\n",
    "    print(\"Payment not successful. Please try again. ❌\")"
   ]
  },
  {
   "cell_type": "markdown",
   "id": "41a33521-74df-443e-9853-235639836ada",
   "metadata": {},
   "source": [
    "## Conclusion 🎯\n",
    "This Movie Ticket Booking Game is a fun, interactive way to simulate the process of booking tickets for movies, while adding a fun touch with emojis and various payment options. It allows players to explore and learn how real-world ticket booking and payment processes work, while also adding excitement with different movie choices and personalized pricing. It’s a great casual game to enjoy! 🎬💸"
   ]
  },
  {
   "cell_type": "code",
   "execution_count": null,
   "id": "3e8065ef-aa8d-4419-9e43-c3cf24ef1e42",
   "metadata": {},
   "outputs": [],
   "source": []
  },
  {
   "cell_type": "code",
   "execution_count": null,
   "id": "34566559-c6c5-4681-806a-5ab2b609a8de",
   "metadata": {},
   "outputs": [],
   "source": []
  },
  {
   "cell_type": "code",
   "execution_count": null,
   "id": "a55df9ba-c03a-4717-9b7e-520efaa0153f",
   "metadata": {},
   "outputs": [],
   "source": []
  },
  {
   "cell_type": "code",
   "execution_count": null,
   "id": "406d9c4e-ad29-4b4e-8dfe-d219a0e89d4e",
   "metadata": {},
   "outputs": [],
   "source": []
  }
 ],
 "metadata": {
  "kernelspec": {
   "display_name": "Python 3 (ipykernel)",
   "language": "python",
   "name": "python3"
  },
  "language_info": {
   "codemirror_mode": {
    "name": "ipython",
    "version": 3
   },
   "file_extension": ".py",
   "mimetype": "text/x-python",
   "name": "python",
   "nbconvert_exporter": "python",
   "pygments_lexer": "ipython3",
   "version": "3.13.0"
  }
 },
 "nbformat": 4,
 "nbformat_minor": 5
}
